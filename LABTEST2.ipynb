{
 "cells": [
  {
   "cell_type": "code",
   "execution_count": 50,
   "metadata": {},
   "outputs": [
    {
     "name": "stdout",
     "output_type": "stream",
     "text": [
      "4\n",
      "150\n",
      "150\n",
      "<class 'str'>\n",
      "<class 'str'>\n",
      "<class 'str'>\n",
      "<class 'str'>\n",
      "0.9\n",
      "0.9239999999999999\n",
      "0.9\n",
      "0.8977272727272727\n"
     ]
    },
    {
     "name": "stderr",
     "output_type": "stream",
     "text": [
      "C:\\ProgramData\\Anaconda3\\lib\\site-packages\\sklearn\\linear_model\\logistic.py:432: FutureWarning: Default solver will be changed to 'lbfgs' in 0.22. Specify a solver to silence this warning.\n",
      "  FutureWarning)\n",
      "C:\\ProgramData\\Anaconda3\\lib\\site-packages\\sklearn\\linear_model\\logistic.py:469: FutureWarning: Default multi_class will be changed to 'auto' in 0.22. Specify the multi_class option to silence this warning.\n",
      "  \"this warning.\", FutureWarning)\n"
     ]
    },
    {
     "data": {
      "image/png": "[encoded data removed]",
      "text/plain": [
       "<Figure size 432x288 with 1 Axes>"
      ]
     },
     "metadata": {
      "needs_background": "light"
     },
     "output_type": "display_data"
    },
    {
     "data": {
      "image/png": "[encoded data removed]",
      "text/plain": [
       "<Figure size 432x288 with 4 Axes>"
      ]
     },
     "metadata": {
      "needs_background": "light"
     },
     "output_type": "display_data"
    }
   ],
   "source": [
    "import pandas as pd\n",
    "import numpy as np\n",
    "import matplotlib.pyplot as plt\n",
    "from sklearn.datasets import load_iris\n",
    "from sklearn.model_selection import train_test_split \n",
    "from sklearn.linear_model import LogisticRegression\n",
    "from sklearn.metrics import accuracy_score,precision_score,recall_score,f1_score\n",
    "iris=load_iris()\n",
    "print(len(iris.feature_names))\n",
    "data=pd.DataFrame(iris.data,columns=iris.feature_names)\n",
    "print(len(data))\n",
    "target=pd.Series(iris.target,name=\"b\")\n",
    "print(len(target))\n",
    "df=pd.concat([data,target],axis=1)\n",
    "for feature in iris.feature_names:\n",
    "    print(type(feature))\n",
    "\n",
    "# print(df.head(10))\n",
    "\n",
    "mat=data.corr()\n",
    "plt.imshow(mat,cmap=\"Blues\")\n",
    "data.hist(bins=4,color=\"Red\")\n",
    "x_train,x_test,y_train,y_test=train_test_split(data,target,test_size=0.8,random_state=42)\n",
    "log=LogisticRegression()\n",
    "log.fit(x_train,y_train)\n",
    "logpred=log.predict(x_test)\n",
    "print(accuracy_score(y_test,logpred))\n",
    "print(precision_score(y_test,logpred,average=\"weighted\"))\n",
    "print(recall_score(y_test,logpred,average=\"weighted\"))\n",
    "print(f1_score(y_test,logpred,average=\"weighted\"))"
   ]
  },
  {
   "cell_type": "code",
   "execution_count": 45,
   "metadata": {},
   "outputs": [
    {
     "data": {
      "text/plain": [
       "'ggff'"
      ]
     },
     "execution_count": 45,
     "metadata": {},
     "output_type": "execute_result"
    }
   ],
   "source": [
    "def fn(list,ans):\n",
    "    np.sort(list)\n",
    "    for str in list:\n",
    "        if len(str)>5 and len(str)>len(ans):\n",
    "            ans=str\n",
    "    if ans==\"\":\n",
    "        ans=list[0]\n",
    "        for str in list:\n",
    "            if len(str)<len(ans):\n",
    "                ans=str\n",
    "    return ans\n",
    "list=[\"aryan\" ,\"ggff\",\"ffhef\",\"fffffffff\"]\n",
    "ans=\"\"\n",
    "fn(list,ans)\n",
    "    \n",
    "        \n",
    "            "
   ]
  },
  {
   "cell_type": "code",
   "execution_count": null,
   "metadata": {},
   "outputs": [],
   "source": []
  }
 ],
 "metadata": {
  "kernelspec": {
   "display_name": "Python 3",
   "language": "python",
   "name": "python3"
  },
  "language_info": {
   "codemirror_mode": {
    "name": "ipython",
    "version": 3
   },
   "file_extension": ".py",
   "mimetype": "text/x-python",
   "name": "python",
   "nbconvert_exporter": "python",
   "pygments_lexer": "ipython3",
   "version": "3.7.3"
  }
 },
 "nbformat": 4,
 "nbformat_minor": 2
}
